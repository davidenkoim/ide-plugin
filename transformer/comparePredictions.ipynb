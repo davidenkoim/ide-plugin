{
 "cells": [
  {
   "cell_type": "code",
   "execution_count": 2,
   "id": "answering-change",
   "metadata": {},
   "outputs": [],
   "source": [
    "# %matplotlib inline\n",
    "# %config InlineBackend.figure_format ='retina'\n",
    "\n",
    "import json\n",
    "import numpy as np\n",
    "import matplotlib.pyplot as plt\n",
    "import os\n",
    "from collections import Counter\n",
    "from tqdm.notebook import tqdm, trange\n",
    "from collections import defaultdict, namedtuple, Counter\n",
    "from utils import camel_case_split\n",
    "import pprint\n",
    "import pandas as pd\n",
    "from IPython.display import display\n",
    "import matplotlib.pyplot as plt\n",
    "printer = pprint.PrettyPrinter(indent=1, width=80, compact=False, sort_dicts=False)"
   ]
  },
  {
   "cell_type": "code",
   "execution_count": 3,
   "id": "anonymous-fight",
   "metadata": {},
   "outputs": [],
   "source": [
    "def get_predictions(predictions_file):\n",
    "    predictions = []\n",
    "    n_files = 0\n",
    "    for line in tqdm(open(predictions_file, \"r\")):\n",
    "        predictions.extend(list(json.loads(line).values())[0])\n",
    "        n_files += 1\n",
    "    return predictions, n_files"
   ]
  },
  {
   "cell_type": "code",
   "execution_count": 4,
   "id": "incomplete-allowance",
   "metadata": {},
   "outputs": [],
   "source": [
    "def calc_index(pred, tgt):\n",
    "    if tgt in pred:\n",
    "        return pred.index(tgt)"
   ]
  },
  {
   "cell_type": "code",
   "execution_count": 5,
   "id": "silent-friday",
   "metadata": {},
   "outputs": [],
   "source": [
    "Ms = namedtuple(\"Ms\", [\"precision\", \"recall\", \"F1\", \"MRR\", \"top1\", \"top5\"])\n",
    "class Metrics:\n",
    "    def __init__(self):\n",
    "        self.tp, self.fp, self.fn = 0, 0, 0\n",
    "        self.mrr, self.top1, self.top5 = 0, 0, 0\n",
    "        self.total = 0\n",
    "    \n",
    "    def update(self, pred, tgt):\n",
    "        self.total += 1\n",
    "        self.calc_tp_fp_fn(pred, tgt)\n",
    "        index = calc_index(pred, tgt)\n",
    "        if index is not None:\n",
    "            self.mrr += 1/(index + 1)\n",
    "            self.top1 += (index < 1)\n",
    "            self.top5 += (index < 5)\n",
    "            \n",
    "    def calc_tp_fp_fn(self, preds, tgt):\n",
    "        if not preds:\n",
    "            self.fn += len(tgt)\n",
    "            return\n",
    "        pred = preds[0]\n",
    "        for pred_subtoken in pred:\n",
    "            if pred_subtoken in tgt:\n",
    "                self.tp += 1\n",
    "            else:\n",
    "                self.fp += 1\n",
    "        for tgt_subtoken in tgt:\n",
    "            if tgt_subtoken not in pred:\n",
    "                self.fn += 1\n",
    "            \n",
    "    def compute(self):\n",
    "        precision = self.tp / (self.tp + self.fp) if self.tp + self.fp > 0 else 0\n",
    "        recall = self.tp / (self.tp + self.fn) if self.tp + self.fn > 0 else 0\n",
    "        f1 = 2 * precision * recall / (precision + recall) if precision + recall > 0 else 0\n",
    "        mrr = self.mrr / self.total\n",
    "        top1 = self.top1 / self.total\n",
    "        top5 = self.top5 / self.total\n",
    "        return Ms(precision, recall, f1, mrr, top1, top5)"
   ]
  },
  {
   "cell_type": "code",
   "execution_count": 6,
   "id": "rental-wells",
   "metadata": {},
   "outputs": [],
   "source": [
    "def get_stats(preds):\n",
    "    stats = defaultdict(list)\n",
    "    ngram_ms = Metrics()\n",
    "    transformer_ms = Metrics()\n",
    "    for pred in tqdm(preds):\n",
    "        stats['ngramEvaluationTime'].append(pred['ngramEvaluationTime'])\n",
    "        stats['transformerResponseTime'].append(pred['transformerResponseTime'])\n",
    "        stats['psiInterface'].append(pred['psiInterface'])\n",
    "        stats['transformerEvaluationTime'].append(pred['transformerPrediction']['transformerEvaluationTime'])\n",
    "        gt = camel_case_split(pred['groundTruth'])\n",
    "        ngram_preds = list(map(lambda x: camel_case_split(x['name']), pred['ngramPrediction']))\n",
    "        transformer_preds = list(map(lambda x: x['name'], \n",
    "                                     sorted(pred['transformerPrediction']['predictions'], key=lambda x: -x['p'])))\n",
    "        ngram_ms.update(ngram_preds, gt)\n",
    "        transformer_ms.update(transformer_preds, gt)\n",
    "    stats['ngram_metrics'] = ngram_ms.compute()\n",
    "    stats['transformer_metrics'] = transformer_ms.compute()\n",
    "    return stats"
   ]
  },
  {
   "cell_type": "code",
   "execution_count": 7,
   "id": "pregnant-framework",
   "metadata": {},
   "outputs": [
    {
     "data": {
      "application/vnd.jupyter.widget-view+json": {
       "model_id": "46560db0eff948fa94040484a9fd0f39",
       "version_major": 2,
       "version_minor": 0
      },
      "text/plain": [
       "0it [00:00, ?it/s]"
      ]
     },
     "metadata": {},
     "output_type": "display_data"
    },
    {
     "data": {
      "application/vnd.jupyter.widget-view+json": {
       "model_id": "d54aac4f47944995b51adcd704ed8011",
       "version_major": 2,
       "version_minor": 0
      },
      "text/plain": [
       "  0%|          | 0/90960 [00:00<?, ?it/s]"
      ]
     },
     "metadata": {},
     "output_type": "display_data"
    },
    {
     "data": {
      "application/vnd.jupyter.widget-view+json": {
       "model_id": "2af4218873ee4467aa008d42022078a4",
       "version_major": 2,
       "version_minor": 0
      },
      "text/plain": [
       "0it [00:00, ?it/s]"
      ]
     },
     "metadata": {},
     "output_type": "display_data"
    },
    {
     "data": {
      "application/vnd.jupyter.widget-view+json": {
       "model_id": "9c853c44b475464e9be9294e74afce5c",
       "version_major": 2,
       "version_minor": 0
      },
      "text/plain": [
       "  0%|          | 0/367892 [00:00<?, ?it/s]"
      ]
     },
     "metadata": {},
     "output_type": "display_data"
    },
    {
     "data": {
      "application/vnd.jupyter.widget-view+json": {
       "model_id": "55258eefdc594e17b93d691c83afb210",
       "version_major": 2,
       "version_minor": 0
      },
      "text/plain": [
       "0it [00:00, ?it/s]"
      ]
     },
     "metadata": {},
     "output_type": "display_data"
    },
    {
     "data": {
      "application/vnd.jupyter.widget-view+json": {
       "model_id": "c6e6ef88bd6443b18fe02b33803a3916",
       "version_major": 2,
       "version_minor": 0
      },
      "text/plain": [
       "  0%|          | 0/90960 [00:00<?, ?it/s]"
      ]
     },
     "metadata": {},
     "output_type": "display_data"
    },
    {
     "data": {
      "application/vnd.jupyter.widget-view+json": {
       "model_id": "ff5c8954e6504cb58cb8d55c7285ddf1",
       "version_major": 2,
       "version_minor": 0
      },
      "text/plain": [
       "0it [00:00, ?it/s]"
      ]
     },
     "metadata": {},
     "output_type": "display_data"
    },
    {
     "data": {
      "application/vnd.jupyter.widget-view+json": {
       "model_id": "ea7aa8059fb648e5bad7454170e6ffaf",
       "version_major": 2,
       "version_minor": 0
      },
      "text/plain": [
       "  0%|          | 0/367892 [00:00<?, ?it/s]"
      ]
     },
     "metadata": {},
     "output_type": "display_data"
    }
   ],
   "source": [
    "def get_project_stats(preds_path):\n",
    "    preds, n = get_predictions(preds_path)\n",
    "    stats = get_stats(preds)\n",
    "    for i in np.random.randint(len(preds), size=10):\n",
    "        stats[\"examples\"].append(preds[i])\n",
    "    stats[\"n_files\"] = n\n",
    "    return stats\n",
    "\n",
    "def get_projects_stats(predictions_path):\n",
    "    projects_list = os.listdir(predictions_path)\n",
    "    global_res = {}\n",
    "    for preds_file in filter(lambda x: x.endswith(\"_global_predictions.txt\"), projects_list):\n",
    "        global_res[preds_file[:-23]] = get_project_stats(os.path.join(predictions_path, preds_file))\n",
    "    project_res = {}\n",
    "    for preds_file in filter(lambda x: x.endswith(\"_project_predictions.txt\"), projects_list):\n",
    "        project_res[preds_file[:-24]] = get_project_stats(os.path.join(predictions_path, preds_file))\n",
    "    for project in set(project_res.keys()) & set(global_res.keys()):\n",
    "        global_res[project][\"project_ngram_metrics\"] = project_res[project][\"ngram_metrics\"]\n",
    "        global_res[project][\"projectNgramEvaluationTime\"] = project_res[project][\"ngramEvaluationTime\"]\n",
    "    return global_res\n",
    "        \n",
    "stats = get_projects_stats(\"predictions/test\")"
   ]
  },
  {
   "cell_type": "code",
   "execution_count": 8,
   "id": "ecological-destiny",
   "metadata": {},
   "outputs": [],
   "source": [
    "def print_stats(stats):\n",
    "    for project, stat in stats.items():\n",
    "        print(\"Project:\", project)\n",
    "        table = {\"global_ngram\": stat[\"ngram_metrics\"]._asdict(),\n",
    "                 \"project_ngram\": stat[\"project_ngram_metrics\"]._asdict(),\n",
    "                 \"transformer\": stat[\"transformer_metrics\"]._asdict()}\n",
    "        display((pd.DataFrame.from_dict(table) * 100).round(2))\n",
    "        table = defaultdict(dict)\n",
    "        def add_time_stats(d, name, times):\n",
    "            d[name][\"mean_time\"] = np.mean(times)\n",
    "            d[name][\"median_time\"] = np.median(times)\n",
    "            d[name][\"std_time\"] = np.std(times)\n",
    "        add_time_stats(table, \"global_ngram\", stat[\"ngramEvaluationTime\"])\n",
    "        add_time_stats(table, \"project_ngram\", stat[\"projectNgramEvaluationTime\"])\n",
    "        add_time_stats(table, \"transformer\", stat[\"transformerEvaluationTime\"])\n",
    "        print(\"Evaluation time stats:\")\n",
    "        display(pd.DataFrame.from_dict(table))\n",
    "        fig, ax = plt.subplots(ncols=1, sharex='all', figsize=(14, 6))\n",
    "        ax.hist(stat[\"ngramEvaluationTime\"], bins=1000, range=(0, 0.03), label=\"GigaCounter ngram\")\n",
    "        ax.hist(stat[\"projectNgramEvaluationTime\"], bins=1000, range=(0, 0.03), label=\"ArrayTrieCounter ngram\")\n",
    "        plt.legend()\n",
    "        plt.show()\n",
    "        \n",
    "        fig, ax = plt.subplots(ncols=1, sharex='all', figsize=(14, 6))\n",
    "        ax.hist(stat[\"transformerEvaluationTime\"], bins=100, range=(0.02, 0.2), label=\"transformer\")\n",
    "        plt.legend()\n",
    "        plt.show()\n",
    "        print()"
   ]
  },
  {
   "cell_type": "code",
   "execution_count": 9,
   "id": "accurate-scholarship",
   "metadata": {},
   "outputs": [
    {
     "name": "stdout",
     "output_type": "stream",
     "text": [
      "Project: gdx-parent\n"
     ]
    },
    {
     "data": {
      "text/html": [
       "<div>\n",
       "<style scoped>\n",
       "    .dataframe tbody tr th:only-of-type {\n",
       "        vertical-align: middle;\n",
       "    }\n",
       "\n",
       "    .dataframe tbody tr th {\n",
       "        vertical-align: top;\n",
       "    }\n",
       "\n",
       "    .dataframe thead th {\n",
       "        text-align: right;\n",
       "    }\n",
       "</style>\n",
       "<table border=\"1\" class=\"dataframe\">\n",
       "  <thead>\n",
       "    <tr style=\"text-align: right;\">\n",
       "      <th></th>\n",
       "      <th>global_ngram</th>\n",
       "      <th>project_ngram</th>\n",
       "      <th>transformer</th>\n",
       "    </tr>\n",
       "  </thead>\n",
       "  <tbody>\n",
       "    <tr>\n",
       "      <th>precision</th>\n",
       "      <td>12.37</td>\n",
       "      <td>68.63</td>\n",
       "      <td>31.90</td>\n",
       "    </tr>\n",
       "    <tr>\n",
       "      <th>recall</th>\n",
       "      <td>9.86</td>\n",
       "      <td>64.04</td>\n",
       "      <td>24.67</td>\n",
       "    </tr>\n",
       "    <tr>\n",
       "      <th>F1</th>\n",
       "      <td>10.97</td>\n",
       "      <td>66.25</td>\n",
       "      <td>27.82</td>\n",
       "    </tr>\n",
       "    <tr>\n",
       "      <th>MRR</th>\n",
       "      <td>14.80</td>\n",
       "      <td>68.72</td>\n",
       "      <td>23.27</td>\n",
       "    </tr>\n",
       "    <tr>\n",
       "      <th>top1</th>\n",
       "      <td>11.33</td>\n",
       "      <td>62.45</td>\n",
       "      <td>18.47</td>\n",
       "    </tr>\n",
       "    <tr>\n",
       "      <th>top5</th>\n",
       "      <td>19.24</td>\n",
       "      <td>76.57</td>\n",
       "      <td>29.68</td>\n",
       "    </tr>\n",
       "  </tbody>\n",
       "</table>\n",
       "</div>"
      ],
      "text/plain": [
       "           global_ngram  project_ngram  transformer\n",
       "precision         12.37          68.63        31.90\n",
       "recall             9.86          64.04        24.67\n",
       "F1                10.97          66.25        27.82\n",
       "MRR               14.80          68.72        23.27\n",
       "top1              11.33          62.45        18.47\n",
       "top5              19.24          76.57        29.68"
      ]
     },
     "metadata": {},
     "output_type": "display_data"
    },
    {
     "name": "stdout",
     "output_type": "stream",
     "text": [
      "Evaluation time stats:\n"
     ]
    },
    {
     "data": {
      "text/html": [
       "<div>\n",
       "<style scoped>\n",
       "    .dataframe tbody tr th:only-of-type {\n",
       "        vertical-align: middle;\n",
       "    }\n",
       "\n",
       "    .dataframe tbody tr th {\n",
       "        vertical-align: top;\n",
       "    }\n",
       "\n",
       "    .dataframe thead th {\n",
       "        text-align: right;\n",
       "    }\n",
       "</style>\n",
       "<table border=\"1\" class=\"dataframe\">\n",
       "  <thead>\n",
       "    <tr style=\"text-align: right;\">\n",
       "      <th></th>\n",
       "      <th>global_ngram</th>\n",
       "      <th>project_ngram</th>\n",
       "      <th>transformer</th>\n",
       "    </tr>\n",
       "  </thead>\n",
       "  <tbody>\n",
       "    <tr>\n",
       "      <th>mean_time</th>\n",
       "      <td>0.002875</td>\n",
       "      <td>0.013917</td>\n",
       "      <td>0.082412</td>\n",
       "    </tr>\n",
       "    <tr>\n",
       "      <th>median_time</th>\n",
       "      <td>0.001043</td>\n",
       "      <td>0.012496</td>\n",
       "      <td>0.072215</td>\n",
       "    </tr>\n",
       "    <tr>\n",
       "      <th>std_time</th>\n",
       "      <td>0.249175</td>\n",
       "      <td>0.034928</td>\n",
       "      <td>0.047019</td>\n",
       "    </tr>\n",
       "  </tbody>\n",
       "</table>\n",
       "</div>"
      ],
      "text/plain": [
       "             global_ngram  project_ngram  transformer\n",
       "mean_time        0.002875       0.013917     0.082412\n",
       "median_time      0.001043       0.012496     0.072215\n",
       "std_time         0.249175       0.034928     0.047019"
      ]
     },
     "metadata": {},
     "output_type": "display_data"
    },
    {
     "data": {
      "image/png": "[encoded data removed]",
      "text/plain": [
       "<Figure size 1008x432 with 1 Axes>"
      ]
     },
     "metadata": {
      "needs_background": "light"
     },
     "output_type": "display_data"
    },
    {
     "data": {
      "image/png": "[encoded data removed]",
      "text/plain": [
       "<Figure size 1008x432 with 1 Axes>"
      ]
     },
     "metadata": {
      "needs_background": "light"
     },
     "output_type": "display_data"
    },
    {
     "name": "stdout",
     "output_type": "stream",
     "text": [
      "\n",
      "Project: hadoop\n"
     ]
    },
    {
     "data": {
      "text/html": [
       "<div>\n",
       "<style scoped>\n",
       "    .dataframe tbody tr th:only-of-type {\n",
       "        vertical-align: middle;\n",
       "    }\n",
       "\n",
       "    .dataframe tbody tr th {\n",
       "        vertical-align: top;\n",
       "    }\n",
       "\n",
       "    .dataframe thead th {\n",
       "        text-align: right;\n",
       "    }\n",
       "</style>\n",
       "<table border=\"1\" class=\"dataframe\">\n",
       "  <thead>\n",
       "    <tr style=\"text-align: right;\">\n",
       "      <th></th>\n",
       "      <th>global_ngram</th>\n",
       "      <th>project_ngram</th>\n",
       "      <th>transformer</th>\n",
       "    </tr>\n",
       "  </thead>\n",
       "  <tbody>\n",
       "    <tr>\n",
       "      <th>precision</th>\n",
       "      <td>12.10</td>\n",
       "      <td>53.08</td>\n",
       "      <td>43.26</td>\n",
       "    </tr>\n",
       "    <tr>\n",
       "      <th>recall</th>\n",
       "      <td>9.30</td>\n",
       "      <td>45.96</td>\n",
       "      <td>33.18</td>\n",
       "    </tr>\n",
       "    <tr>\n",
       "      <th>F1</th>\n",
       "      <td>10.52</td>\n",
       "      <td>49.26</td>\n",
       "      <td>37.56</td>\n",
       "    </tr>\n",
       "    <tr>\n",
       "      <th>MRR</th>\n",
       "      <td>14.26</td>\n",
       "      <td>52.94</td>\n",
       "      <td>30.25</td>\n",
       "    </tr>\n",
       "    <tr>\n",
       "      <th>top1</th>\n",
       "      <td>10.31</td>\n",
       "      <td>45.37</td>\n",
       "      <td>23.29</td>\n",
       "    </tr>\n",
       "    <tr>\n",
       "      <th>top5</th>\n",
       "      <td>19.48</td>\n",
       "      <td>62.81</td>\n",
       "      <td>39.82</td>\n",
       "    </tr>\n",
       "  </tbody>\n",
       "</table>\n",
       "</div>"
      ],
      "text/plain": [
       "           global_ngram  project_ngram  transformer\n",
       "precision         12.10          53.08        43.26\n",
       "recall             9.30          45.96        33.18\n",
       "F1                10.52          49.26        37.56\n",
       "MRR               14.26          52.94        30.25\n",
       "top1              10.31          45.37        23.29\n",
       "top5              19.48          62.81        39.82"
      ]
     },
     "metadata": {},
     "output_type": "display_data"
    },
    {
     "name": "stdout",
     "output_type": "stream",
     "text": [
      "Evaluation time stats:\n"
     ]
    },
    {
     "data": {
      "text/html": [
       "<div>\n",
       "<style scoped>\n",
       "    .dataframe tbody tr th:only-of-type {\n",
       "        vertical-align: middle;\n",
       "    }\n",
       "\n",
       "    .dataframe tbody tr th {\n",
       "        vertical-align: top;\n",
       "    }\n",
       "\n",
       "    .dataframe thead th {\n",
       "        text-align: right;\n",
       "    }\n",
       "</style>\n",
       "<table border=\"1\" class=\"dataframe\">\n",
       "  <thead>\n",
       "    <tr style=\"text-align: right;\">\n",
       "      <th></th>\n",
       "      <th>global_ngram</th>\n",
       "      <th>project_ngram</th>\n",
       "      <th>transformer</th>\n",
       "    </tr>\n",
       "  </thead>\n",
       "  <tbody>\n",
       "    <tr>\n",
       "      <th>mean_time</th>\n",
       "      <td>0.001802</td>\n",
       "      <td>0.059047</td>\n",
       "      <td>0.111406</td>\n",
       "    </tr>\n",
       "    <tr>\n",
       "      <th>median_time</th>\n",
       "      <td>0.000929</td>\n",
       "      <td>0.058278</td>\n",
       "      <td>0.089445</td>\n",
       "    </tr>\n",
       "    <tr>\n",
       "      <th>std_time</th>\n",
       "      <td>0.150374</td>\n",
       "      <td>0.113845</td>\n",
       "      <td>0.066420</td>\n",
       "    </tr>\n",
       "  </tbody>\n",
       "</table>\n",
       "</div>"
      ],
      "text/plain": [
       "             global_ngram  project_ngram  transformer\n",
       "mean_time        0.001802       0.059047     0.111406\n",
       "median_time      0.000929       0.058278     0.089445\n",
       "std_time         0.150374       0.113845     0.066420"
      ]
     },
     "metadata": {},
     "output_type": "display_data"
    },
    {
     "data": {
      "image/png": "[encoded data removed]",
      "text/plain": [
       "<Figure size 1008x432 with 1 Axes>"
      ]
     },
     "metadata": {
      "needs_background": "light"
     },
     "output_type": "display_data"
    },
    {
     "data": {
      "image/png": "[encoded data removed]",
      "text/plain": [
       "<Figure size 1008x432 with 1 Axes>"
      ]
     },
     "metadata": {
      "needs_background": "light"
     },
     "output_type": "display_data"
    },
    {
     "name": "stdout",
     "output_type": "stream",
     "text": [
      "\n"
     ]
    }
   ],
   "source": [
    "print_stats(stats)"
   ]
  },
  {
   "cell_type": "code",
   "execution_count": null,
   "id": "subject-praise",
   "metadata": {},
   "outputs": [],
   "source": []
  }
 ],
 "metadata": {
  "kernelspec": {
   "display_name": "Python 3",
   "language": "python",
   "name": "python3"
  },
  "language_info": {
   "codemirror_mode": {
    "name": "ipython",
    "version": 3
   },
   "file_extension": ".py",
   "mimetype": "text/x-python",
   "name": "python",
   "nbconvert_exporter": "python",
   "pygments_lexer": "ipython3",
   "version": "3.8.8"
  }
 },
 "nbformat": 4,
 "nbformat_minor": 5
}
