{
 "cells": [
  {
   "cell_type": "code",
   "execution_count": 1,
   "id": "occasional-government",
   "metadata": {},
   "outputs": [],
   "source": [
    "import linecache as lc\n",
    "import numpy as np\n",
    "import matplotlib.pyplot as plt\n",
    "from timeit import timeit, repeat\n",
    "import scipy.stats as st"
   ]
  },
  {
   "cell_type": "markdown",
   "id": "occupational-environment",
   "metadata": {},
   "source": [
    "## Building big file\n",
    "`train.txt` size is 843 MB\n",
    "\n",
    "`big_train.txt` size is more 8 GB"
   ]
  },
  {
   "cell_type": "code",
   "execution_count": 2,
   "id": "endless-bulgarian",
   "metadata": {},
   "outputs": [],
   "source": [
    "path = r\"D:\\dataset\\java-small\\java-small\\train.txt\"\n",
    "path2 = r\"D:\\dataset\\java-small\\java-small\\big_train.txt\""
   ]
  },
  {
   "cell_type": "code",
   "execution_count": 3,
   "id": "satisfactory-cream",
   "metadata": {},
   "outputs": [],
   "source": [
    "# open(path2, \"w+\").close()\n",
    "# with open(path, \"r\", encoding=\"utf-8\") as file:\n",
    "#     with open(path2, \"a+\", encoding=\"utf-8\") as file2:\n",
    "#         for line in file:\n",
    "#             for i in range(10):\n",
    "#                 print(f\"{i} {line}\", file=file2, end=\"\")"
   ]
  },
  {
   "cell_type": "code",
   "execution_count": 4,
   "id": "swedish-circuit",
   "metadata": {},
   "outputs": [],
   "source": [
    "path = path2"
   ]
  },
  {
   "cell_type": "markdown",
   "id": "descending-dividend",
   "metadata": {},
   "source": [
    "## LazyByteReader"
   ]
  },
  {
   "cell_type": "code",
   "execution_count": 5,
   "id": "documented-samoa",
   "metadata": {},
   "outputs": [
    {
     "name": "stdout",
     "output_type": "stream",
     "text": [
      "Wall time: 38.2 s\n"
     ]
    }
   ],
   "source": [
    "%%time\n",
    "cumulative_offset = 0\n",
    "line_offsets = []\n",
    "with open(path, \"br\") as file:\n",
    "    for line in file:\n",
    "        line_offsets.append(cumulative_offset)\n",
    "        cumulative_offset += len(line)\n",
    "n_samples = len(line_offsets)"
   ]
  },
  {
   "cell_type": "code",
   "execution_count": 6,
   "id": "hairy-potter",
   "metadata": {},
   "outputs": [],
   "source": [
    "def read_line(index):\n",
    "    with open(path, \"br\") as file:\n",
    "        file.seek(line_offsets[index])\n",
    "        line = file.readline().decode(encoding=\"utf-8\").strip()\n",
    "    return line"
   ]
  },
  {
   "cell_type": "code",
   "execution_count": 7,
   "id": "devoted-marina",
   "metadata": {},
   "outputs": [
    {
     "data": {
      "text/plain": [
       "25347130"
      ]
     },
     "execution_count": 7,
     "metadata": {},
     "output_type": "execute_result"
    }
   ],
   "source": [
    "n_samples"
   ]
  },
  {
   "cell_type": "code",
   "execution_count": 8,
   "id": "offensive-panic",
   "metadata": {},
   "outputs": [],
   "source": [
    "index = 17834923"
   ]
  },
  {
   "cell_type": "code",
   "execution_count": 9,
   "id": "competitive-latin",
   "metadata": {},
   "outputs": [
    {
     "name": "stdout",
     "output_type": "stream",
     "text": [
      "Wall time: 1 ms\n"
     ]
    },
    {
     "data": {
      "text/plain": [
       "'3 {\"variable\": \"uuid\", \"ngrams\": [\"Override public void removeByUuid ( String <var> ) { for ( CPDefinitionVirtualSetting cpDefinitionVirtualSetting\", \"( CPDefinitionVirtualSetting cpDefinitionVirtualSetting : findByUuid ( ( <var> , QueryUtil . ALL_POS ,\"], \"otherFeatures\": [[0], [86]], \"psiInterface\": \"PsiParameter\"}'"
      ]
     },
     "execution_count": 9,
     "metadata": {},
     "output_type": "execute_result"
    }
   ],
   "source": [
    "%%time\n",
    "read_line(index)"
   ]
  },
  {
   "cell_type": "code",
   "execution_count": 10,
   "id": "alleged-particular",
   "metadata": {},
   "outputs": [
    {
     "name": "stdout",
     "output_type": "stream",
     "text": [
      "Wall time: 46.9 s\n"
     ]
    }
   ],
   "source": [
    "%%time\n",
    "stats256 = repeat(\"\"\"\n",
    "idxs = np.random.randint(n_samples, size=256)\n",
    "for idx in idxs:\n",
    "    read_line(idx)\n",
    "\"\"\",\n",
    "      number=10, repeat=100, globals=globals())"
   ]
  },
  {
   "cell_type": "code",
   "execution_count": 11,
   "id": "subsequent-dinner",
   "metadata": {},
   "outputs": [
    {
     "name": "stdout",
     "output_type": "stream",
     "text": [
      "Wall time: 1min 39s\n"
     ]
    }
   ],
   "source": [
    "%%time\n",
    "stats512 = repeat(\"\"\"\n",
    "idxs = np.random.randint(n_samples, size=512)\n",
    "for idx in idxs:\n",
    "    read_line(idx)\n",
    "\"\"\",\n",
    "      number=10, repeat=100, globals=globals())"
   ]
  },
  {
   "cell_type": "code",
   "execution_count": 12,
   "id": "compatible-palace",
   "metadata": {},
   "outputs": [
    {
     "name": "stdout",
     "output_type": "stream",
     "text": [
      "Wall time: 3min 34s\n"
     ]
    }
   ],
   "source": [
    "%%time\n",
    "stats1024 = repeat(\"\"\"\n",
    "idxs = np.random.randint(n_samples, size=1024)\n",
    "for idx in idxs:\n",
    "    read_line(idx)\n",
    "\"\"\",\n",
    "      number=10, repeat=100, globals=globals())"
   ]
  },
  {
   "cell_type": "markdown",
   "id": "numerous-visitor",
   "metadata": {},
   "source": [
    "## LazyReader"
   ]
  },
  {
   "cell_type": "code",
   "execution_count": 13,
   "id": "handed-treat",
   "metadata": {},
   "outputs": [
    {
     "name": "stdout",
     "output_type": "stream",
     "text": [
      "Wall time: 36.7 s\n"
     ]
    },
    {
     "data": {
      "text/plain": [
       "25347130"
      ]
     },
     "execution_count": 13,
     "metadata": {},
     "output_type": "execute_result"
    }
   ],
   "source": [
    "%%time\n",
    "len(lc.getlines(path))"
   ]
  },
  {
   "cell_type": "code",
   "execution_count": 14,
   "id": "continued-sequence",
   "metadata": {},
   "outputs": [
    {
     "name": "stdout",
     "output_type": "stream",
     "text": [
      "Wall time: 0 ns\n"
     ]
    },
    {
     "data": {
      "text/plain": [
       "'3 {\"variable\": \"uuid\", \"ngrams\": [\"Override public void removeByUuid ( String <var> ) { for ( CPDefinitionVirtualSetting cpDefinitionVirtualSetting\", \"( CPDefinitionVirtualSetting cpDefinitionVirtualSetting : findByUuid ( ( <var> , QueryUtil . ALL_POS ,\"], \"otherFeatures\": [[0], [86]], \"psiInterface\": \"PsiParameter\"}'"
      ]
     },
     "execution_count": 14,
     "metadata": {},
     "output_type": "execute_result"
    }
   ],
   "source": [
    "%%time\n",
    "lc.getline(path, index + 1).strip()"
   ]
  },
  {
   "cell_type": "code",
   "execution_count": 15,
   "id": "velvet-mills",
   "metadata": {},
   "outputs": [
    {
     "name": "stdout",
     "output_type": "stream",
     "text": [
      "Wall time: 10.5 s\n"
     ]
    }
   ],
   "source": [
    "%%time\n",
    "lc_stats256 = repeat(\"\"\"\n",
    "idxs = np.random.randint(n_samples, size=256)\n",
    "for idx in idxs:\n",
    "    lc.getline(path, idx + 1).strip()\n",
    "\"\"\",\n",
    "      number=10, repeat=100, globals=globals())"
   ]
  },
  {
   "cell_type": "code",
   "execution_count": 16,
   "id": "crude-turning",
   "metadata": {},
   "outputs": [
    {
     "name": "stdout",
     "output_type": "stream",
     "text": [
      "Wall time: 15.8 s\n"
     ]
    }
   ],
   "source": [
    "%%time\n",
    "lc_stats512 = repeat(\"\"\"\n",
    "idxs = np.random.randint(n_samples, size=512)\n",
    "for idx in idxs:\n",
    "    lc.getline(path, idx + 1).strip()\n",
    "\"\"\",\n",
    "      number=10, repeat=100, globals=globals())"
   ]
  },
  {
   "cell_type": "code",
   "execution_count": 17,
   "id": "functional-impossible",
   "metadata": {},
   "outputs": [
    {
     "name": "stdout",
     "output_type": "stream",
     "text": [
      "Wall time: 28 s\n"
     ]
    }
   ],
   "source": [
    "%%time\n",
    "lc_stats1024 = repeat(\"\"\"\n",
    "idxs = np.random.randint(n_samples, size=1024)\n",
    "for idx in idxs:\n",
    "    lc.getline(path, idx + 1).strip()\n",
    "\"\"\",\n",
    "      number=10, repeat=100, globals=globals())"
   ]
  },
  {
   "cell_type": "code",
   "execution_count": 18,
   "id": "auburn-sheffield",
   "metadata": {},
   "outputs": [],
   "source": [
    "lc.clearcache()"
   ]
  },
  {
   "cell_type": "markdown",
   "id": "falling-operator",
   "metadata": {},
   "source": [
    "## Comparison"
   ]
  },
  {
   "cell_type": "code",
   "execution_count": 55,
   "id": "focused-rebate",
   "metadata": {},
   "outputs": [],
   "source": [
    "def compare(stats1, stats2):\n",
    "    fig, ax = plt.subplots(ncols=1, sharex='all', figsize=(14, 6))\n",
    "    ax.hist(stats1, bins=20, label=\"Distribution 1\")    \n",
    "    ax.hist(stats2, bins=20, label=\"Distribution 2\")\n",
    "    plt.legend()\n",
    "    plt.show()\n",
    "    \n",
    "    print(f\"For 1: mean = {np.mean(stats1):.3f}; variance = {np.std(stats1):.3f}\")\n",
    "    print(f\"For 2: mean = {np.mean(stats2):.3f}; variance = {np.std(stats2):.3f}\\n\")\n",
    "    \n",
    "    print(\"\\nLet's check equality of means via Welch’s t-test:\")\n",
    "    print(st.ttest_ind(stats1, stats2, equal_var=False))"
   ]
  },
  {
   "cell_type": "markdown",
   "id": "british-fiber",
   "metadata": {},
   "source": [
    "Distribution 1 -- `read_line`, distribution 2 -- `lc.getline`. Mean time of reading batch is `np.mean(stats) / 10`."
   ]
  },
  {
   "cell_type": "code",
   "execution_count": 56,
   "id": "coastal-station",
   "metadata": {},
   "outputs": [
    {
     "data": {
      "image/png": "[encoded data removed]",
      "text/plain": [
       "<Figure size 1008x432 with 1 Axes>"
      ]
     },
     "metadata": {
      "needs_background": "light"
     },
     "output_type": "display_data"
    },
    {
     "name": "stdout",
     "output_type": "stream",
     "text": [
      "For 1: mean = 0.469; variance = 0.204\n",
      "For 2: mean = 0.105; variance = 0.069\n",
      "\n",
      "\n",
      "Let's check equality of means via Welch’s t-test:\n",
      "Ttest_indResult(statistic=16.793296077742287, pvalue=2.0924376400917102e-33)\n"
     ]
    }
   ],
   "source": [
    "compare(stats256, lc_stats256)"
   ]
  },
  {
   "cell_type": "code",
   "execution_count": 57,
   "id": "unique-snapshot",
   "metadata": {},
   "outputs": [
    {
     "data": {
      "image/png": "[encoded data removed]",
      "text/plain": [
       "<Figure size 1008x432 with 1 Axes>"
      ]
     },
     "metadata": {
      "needs_background": "light"
     },
     "output_type": "display_data"
    },
    {
     "name": "stdout",
     "output_type": "stream",
     "text": [
      "For 1: mean = 0.993; variance = 0.233\n",
      "For 2: mean = 0.157; variance = 0.100\n",
      "\n",
      "\n",
      "Let's check equality of means via Welch’s t-test:\n",
      "Ttest_indResult(statistic=32.7231398164242, pvalue=6.53018274401535e-66)\n"
     ]
    }
   ],
   "source": [
    "compare(stats512, lc_stats512)"
   ]
  },
  {
   "cell_type": "code",
   "execution_count": 58,
   "id": "elder-guarantee",
   "metadata": {},
   "outputs": [
    {
     "data": {
      "image/png": "[encoded data removed]",
      "text/plain": [
       "<Figure size 1008x432 with 1 Axes>"
      ]
     },
     "metadata": {
      "needs_background": "light"
     },
     "output_type": "display_data"
    },
    {
     "name": "stdout",
     "output_type": "stream",
     "text": [
      "For 1: mean = 2.140; variance = 0.461\n",
      "For 2: mean = 0.281; variance = 0.147\n",
      "\n",
      "\n",
      "Let's check equality of means via Welch’s t-test:\n",
      "Ttest_indResult(statistic=38.22024129891425, pvalue=1.201844581154238e-68)\n"
     ]
    }
   ],
   "source": [
    "compare(stats1024, lc_stats1024)"
   ]
  },
  {
   "cell_type": "markdown",
   "id": "nonprofit-norwegian",
   "metadata": {},
   "source": [
    "`pvalue < 1%` hence `lc.getline` might be a way to go.\n",
    "\n",
    "P.S. Perhaps statistical tests are unnecessary here."
   ]
  },
  {
   "cell_type": "code",
   "execution_count": null,
   "id": "found-segment",
   "metadata": {},
   "outputs": [],
   "source": []
  }
 ],
 "metadata": {
  "kernelspec": {
   "display_name": "Python 3",
   "language": "python",
   "name": "python3"
  },
  "language_info": {
   "codemirror_mode": {
    "name": "ipython",
    "version": 3
   },
   "file_extension": ".py",
   "mimetype": "text/x-python",
   "name": "python",
   "nbconvert_exporter": "python",
   "pygments_lexer": "ipython3",
   "version": "3.8.5"
  }
 },
 "nbformat": 4,
 "nbformat_minor": 5
}
